{
 "cells": [
  {
   "cell_type": "markdown",
   "metadata": {
    "id": "E0vqbgi9ay0H"
   },
   "source": [
    "# Déjame escuchar la música"
   ]
  },
  {
   "cell_type": "markdown",
   "metadata": {
    "id": "fhq_eyov_Zcs"
   },
   "source": [
    "# Contenido <a id='back'></a>\n",
    "\n",
    "* [Introducción](#intro)\n",
    "* [Etapa 1. Descripción de los datos](#data_review)\n",
    "    * [Conclusiones](#data_review_conclusions)\n",
    "* [Etapa 2. Preprocesamiento de datos](#data_preprocessing)\n",
    "    * [2.1 Estilo del encabezado](#header_style)\n",
    "    * [2.2 Valores ausentes](#missing_values)\n",
    "    * [2.3 Duplicados](#duplicates)\n",
    "    * [2.4 Conclusiones](#data_preprocessing_conclusions)\n",
    "* [Etapa 3. Prueba de hipótesis](#hypothesis)\n",
    "    * [3.1 Hipótesis 1: actividad de los usuarios y las usuarias en las dos ciudades](#activity)\n",
    "* [Conclusiones](#end)"
   ]
  },
  {
   "cell_type": "markdown",
   "metadata": {
    "id": "VUC88oWjTJw2"
   },
   "source": [
    "## Introducción <a id='intro'></a>\n",
    "Como analista de datos, tu trabajo consiste en analizar datos para extraer información valiosa y tomar decisiones basadas en ellos. Esto implica diferentes etapas, como la descripción general de los datos, el preprocesamiento y la prueba de hipótesis.\n",
    "\n",
    "Siempre que investigamos, necesitamos formular hipótesis que después podamos probar. A veces aceptamos estas hipótesis; otras veces, las rechazamos. Para tomar las decisiones correctas, una empresa debe ser capaz de entender si está haciendo las suposiciones correctas.\n",
    "\n",
    "En este proyecto, compararás las preferencias musicales de las ciudades de Springfield y Shelbyville. Estudiarás datos reales de transmisión de música online para probar la hipótesis a continuación y comparar el comportamiento de los usuarios y las usuarias de estas dos ciudades.\n",
    "\n",
    "### Objetivo:\n",
    "Prueba la hipótesis:\n",
    "1. La actividad de los usuarios y las usuarias difiere según el día de la semana y dependiendo de la ciudad.\n",
    "\n",
    "\n",
    "### Etapas\n",
    "Los datos del comportamiento del usuario se almacenan en el archivo `/datasets/music_project_en.csv`. No hay ninguna información sobre la calidad de los datos, así que necesitarás examinarlos antes de probar la hipótesis.\n",
    "\n",
    "Primero, evaluarás la calidad de los datos y verás si los problemas son significativos. Entonces, durante el preprocesamiento de datos, tomarás en cuenta los problemas más críticos.\n",
    "\n",
    "Tu proyecto consistirá en tres etapas:\n",
    " 1. Descripción de los datos.\n",
    " 2. Preprocesamiento de datos.\n",
    " 3. Prueba de hipótesis.\n",
    "\n",
    "\n",
    "\n",
    "\n",
    "\n",
    "\n"
   ]
  },
  {
   "cell_type": "markdown",
   "metadata": {
    "id": "hDt6pg-Rw-1U"
   },
   "source": [
    "[Volver a Contenidos](#back)"
   ]
  },
  {
   "cell_type": "markdown",
   "metadata": {
    "id": "Ml1hmfXC_Zcs"
   },
   "source": [
    "## Etapa 1. Descripción de los datos <a id='data_review'></a>\n",
    "\n",
    "Abre los datos y examínalos."
   ]
  },
  {
   "cell_type": "markdown",
   "metadata": {
    "id": "57eAOGIz_Zcs"
   },
   "source": [
    "Necesitarás `pandas`, así que impórtalo."
   ]
  },
  {
   "cell_type": "code",
   "execution_count": 1,
   "metadata": {
    "id": "AXN7PHPN_Zcs"
   },
   "outputs": [],
   "source": [
    "# Importar pandas\n",
    "import pandas as pd"
   ]
  },
  {
   "cell_type": "markdown",
   "metadata": {
    "id": "SG23P8tt_Zcs"
   },
   "source": [
    "Lee el archivo `music_project_en.csv` de la carpeta `/datasets/` y guárdalo en la variable `df`:"
   ]
  },
  {
   "cell_type": "code",
   "execution_count": 2,
   "metadata": {
    "id": "fFVu7vqh_Zct"
   },
   "outputs": [],
   "source": [
    "# Leer el archivo y almacenarlo en df\n",
    "df = pd.read_csv('/datasets/music_project_en.csv')"
   ]
  },
  {
   "cell_type": "markdown",
   "metadata": {
    "id": "rDoOMd3uTqnZ"
   },
   "source": [
    "Muestra las 10 primeras filas de la tabla:"
   ]
  },
  {
   "cell_type": "code",
   "execution_count": 3,
   "metadata": {
    "id": "oWTVX3gW_Zct"
   },
   "outputs": [
    {
     "data": {
      "text/html": [
       "<div>\n",
       "<style scoped>\n",
       "    .dataframe tbody tr th:only-of-type {\n",
       "        vertical-align: middle;\n",
       "    }\n",
       "\n",
       "    .dataframe tbody tr th {\n",
       "        vertical-align: top;\n",
       "    }\n",
       "\n",
       "    .dataframe thead th {\n",
       "        text-align: right;\n",
       "    }\n",
       "</style>\n",
       "<table border=\"1\" class=\"dataframe\">\n",
       "  <thead>\n",
       "    <tr style=\"text-align: right;\">\n",
       "      <th></th>\n",
       "      <th>userID</th>\n",
       "      <th>Track</th>\n",
       "      <th>artist</th>\n",
       "      <th>genre</th>\n",
       "      <th>City</th>\n",
       "      <th>time</th>\n",
       "      <th>Day</th>\n",
       "    </tr>\n",
       "  </thead>\n",
       "  <tbody>\n",
       "    <tr>\n",
       "      <th>0</th>\n",
       "      <td>FFB692EC</td>\n",
       "      <td>Kamigata To Boots</td>\n",
       "      <td>The Mass Missile</td>\n",
       "      <td>rock</td>\n",
       "      <td>Shelbyville</td>\n",
       "      <td>20:28:33</td>\n",
       "      <td>Wednesday</td>\n",
       "    </tr>\n",
       "    <tr>\n",
       "      <th>1</th>\n",
       "      <td>55204538</td>\n",
       "      <td>Delayed Because of Accident</td>\n",
       "      <td>Andreas Rönnberg</td>\n",
       "      <td>rock</td>\n",
       "      <td>Springfield</td>\n",
       "      <td>14:07:09</td>\n",
       "      <td>Friday</td>\n",
       "    </tr>\n",
       "    <tr>\n",
       "      <th>2</th>\n",
       "      <td>20EC38</td>\n",
       "      <td>Funiculì funiculà</td>\n",
       "      <td>Mario Lanza</td>\n",
       "      <td>pop</td>\n",
       "      <td>Shelbyville</td>\n",
       "      <td>20:58:07</td>\n",
       "      <td>Wednesday</td>\n",
       "    </tr>\n",
       "    <tr>\n",
       "      <th>3</th>\n",
       "      <td>A3DD03C9</td>\n",
       "      <td>Dragons in the Sunset</td>\n",
       "      <td>Fire + Ice</td>\n",
       "      <td>folk</td>\n",
       "      <td>Shelbyville</td>\n",
       "      <td>08:37:09</td>\n",
       "      <td>Monday</td>\n",
       "    </tr>\n",
       "    <tr>\n",
       "      <th>4</th>\n",
       "      <td>E2DC1FAE</td>\n",
       "      <td>Soul People</td>\n",
       "      <td>Space Echo</td>\n",
       "      <td>dance</td>\n",
       "      <td>Springfield</td>\n",
       "      <td>08:34:34</td>\n",
       "      <td>Monday</td>\n",
       "    </tr>\n",
       "    <tr>\n",
       "      <th>5</th>\n",
       "      <td>842029A1</td>\n",
       "      <td>Chains</td>\n",
       "      <td>Obladaet</td>\n",
       "      <td>rusrap</td>\n",
       "      <td>Shelbyville</td>\n",
       "      <td>13:09:41</td>\n",
       "      <td>Friday</td>\n",
       "    </tr>\n",
       "    <tr>\n",
       "      <th>6</th>\n",
       "      <td>4CB90AA5</td>\n",
       "      <td>True</td>\n",
       "      <td>Roman Messer</td>\n",
       "      <td>dance</td>\n",
       "      <td>Springfield</td>\n",
       "      <td>13:00:07</td>\n",
       "      <td>Wednesday</td>\n",
       "    </tr>\n",
       "    <tr>\n",
       "      <th>7</th>\n",
       "      <td>F03E1C1F</td>\n",
       "      <td>Feeling This Way</td>\n",
       "      <td>Polina Griffith</td>\n",
       "      <td>dance</td>\n",
       "      <td>Springfield</td>\n",
       "      <td>20:47:49</td>\n",
       "      <td>Wednesday</td>\n",
       "    </tr>\n",
       "    <tr>\n",
       "      <th>8</th>\n",
       "      <td>8FA1D3BE</td>\n",
       "      <td>L’estate</td>\n",
       "      <td>Julia Dalia</td>\n",
       "      <td>ruspop</td>\n",
       "      <td>Springfield</td>\n",
       "      <td>09:17:40</td>\n",
       "      <td>Friday</td>\n",
       "    </tr>\n",
       "    <tr>\n",
       "      <th>9</th>\n",
       "      <td>E772D5C0</td>\n",
       "      <td>Pessimist</td>\n",
       "      <td>NaN</td>\n",
       "      <td>dance</td>\n",
       "      <td>Shelbyville</td>\n",
       "      <td>21:20:49</td>\n",
       "      <td>Wednesday</td>\n",
       "    </tr>\n",
       "  </tbody>\n",
       "</table>\n",
       "</div>"
      ],
      "text/plain": [
       "     userID                        Track            artist   genre  \\\n",
       "0  FFB692EC            Kamigata To Boots  The Mass Missile    rock   \n",
       "1  55204538  Delayed Because of Accident  Andreas Rönnberg    rock   \n",
       "2    20EC38            Funiculì funiculà       Mario Lanza     pop   \n",
       "3  A3DD03C9        Dragons in the Sunset        Fire + Ice    folk   \n",
       "4  E2DC1FAE                  Soul People        Space Echo   dance   \n",
       "5  842029A1                       Chains          Obladaet  rusrap   \n",
       "6  4CB90AA5                         True      Roman Messer   dance   \n",
       "7  F03E1C1F             Feeling This Way   Polina Griffith   dance   \n",
       "8  8FA1D3BE                     L’estate       Julia Dalia  ruspop   \n",
       "9  E772D5C0                    Pessimist               NaN   dance   \n",
       "\n",
       "        City        time        Day  \n",
       "0  Shelbyville  20:28:33  Wednesday  \n",
       "1  Springfield  14:07:09     Friday  \n",
       "2  Shelbyville  20:58:07  Wednesday  \n",
       "3  Shelbyville  08:37:09     Monday  \n",
       "4  Springfield  08:34:34     Monday  \n",
       "5  Shelbyville  13:09:41     Friday  \n",
       "6  Springfield  13:00:07  Wednesday  \n",
       "7  Springfield  20:47:49  Wednesday  \n",
       "8  Springfield  09:17:40     Friday  \n",
       "9  Shelbyville  21:20:49  Wednesday  "
      ]
     },
     "execution_count": 3,
     "metadata": {},
     "output_type": "execute_result"
    }
   ],
   "source": [
    "# Obtener las 10 primeras filas de la tabla df\n",
    "df.head(10)"
   ]
  },
  {
   "cell_type": "markdown",
   "metadata": {
    "id": "EO73Kwic_Zct"
   },
   "source": [
    "Obtén la información general sobre la tabla con un comando. Conoces el método que muestra la información general que necesitamos."
   ]
  },
  {
   "cell_type": "code",
   "execution_count": 4,
   "metadata": {
    "id": "DSf2kIb-_Zct"
   },
   "outputs": [
    {
     "name": "stdout",
     "output_type": "stream",
     "text": [
      "<class 'pandas.core.frame.DataFrame'>\n",
      "RangeIndex: 65079 entries, 0 to 65078\n",
      "Data columns (total 7 columns):\n",
      " #   Column    Non-Null Count  Dtype \n",
      "---  ------    --------------  ----- \n",
      " 0     userID  65079 non-null  object\n",
      " 1   Track     63736 non-null  object\n",
      " 2   artist    57512 non-null  object\n",
      " 3   genre     63881 non-null  object\n",
      " 4     City    65079 non-null  object\n",
      " 5   time      65079 non-null  object\n",
      " 6   Day       65079 non-null  object\n",
      "dtypes: object(7)\n",
      "memory usage: 3.5+ MB\n"
     ]
    }
   ],
   "source": [
    "# Obtener la información general sobre nuestros datos\n",
    "df.info()"
   ]
  },
  {
   "cell_type": "markdown",
   "metadata": {
    "id": "TaQ2Iwbr_Zct"
   },
   "source": [
    "Estas son nuestras observaciones sobre la tabla. Contiene siete columnas. Almacenan los mismos tipos de datos: `object`.\n",
    "\n",
    "Según la documentación:\n",
    "- `' userID'`: identificador del usuario o la usuaria;\n",
    "- `'Track'`: título de la canción;\n",
    "- `'artist'`: nombre del artista;\n",
    "- `'genre'`: género de la pista;\n",
    "- `'City'`: ciudad del usuario o la usuaria;\n",
    "- `'time'`: la hora exacta en la que se reprodujo la canción;\n",
    "- `'Day'`: día de la semana.\n",
    "\n",
    "Podemos ver tres problemas con el estilo en los encabezados de la tabla:\n",
    "1. Algunos encabezados están en mayúsculas, otros en minúsculas.\n",
    "2. Hay espacios en algunos encabezados.\n",
    "3. `Detecta el tercer problema por tu cuenta y descríbelo aquí`.\n",
    "   R/:Hay nombres de columnas que no son suficientemente descriptivos o claros.\n",
    "\n",
    "\n"
   ]
  },
  {
   "cell_type": "markdown",
   "metadata": {
    "id": "MCB6-dXG_Zct"
   },
   "source": [
    "### Escribe observaciones de tu parte. Estas son algunas de las preguntas que pueden ser útiles: <a id='data_review_conclusions'></a>\n",
    "\n",
    "`1.   ¿Qué tipo de datos tenemos a nuestra disposición en las filas? ¿Y cómo podemos entender lo que almacenan las columnas?`\n",
    "\n",
    "  userID: Identificador único del usuario. Este campo nos permitirá identificar y agrupar la actividad por usuario. Este campo es una cadena de texto.\n",
    "\n",
    "Track: Nombre de la pista. Esto puede ser útil para ver qué canciones son populares en diferentes días y ciudades.También es una cadena de texto.\n",
    "\n",
    "artist: Nombre del artista. Similar al título de la canción, esto puede ayudar a identificar patrones de popularidad de artistas específicos.Este campo es una cadena de texto.\n",
    "\n",
    "genre: Género musical. Podría ser relevante si buscamos patrones de géneros musicales específicos en diferentes días y ciudades.Este campo es una cadena de texto.\n",
    "\n",
    "  city: Ciudad del usuario. Este es uno de los campos principales para nuestra hipótesis, ya que queremos ver cómo varía la actividad entre diferentes ciudades.Este campo es una cadena de texto.\n",
    "\n",
    "time: La hora exacta en la que se reprodujo la canción. Aunque nuestra hipótesis se centra en los días y ciudades, la hora de reproducción también podría ofrecer información adicional sobre los hábitos de escucha.Este campo es una cadena de texto.\n",
    "\n",
    "day: Día de la semana en que se reprodujo la pista. Este es el otro campo principal para nuestra hipótesis, ya que queremos ver cómo varía la actividad entre diferentes días de la semana.Este campo es una cadena de texto.\n",
    "\n",
    "`2.   ¿Hay suficientes datos para proporcionar respuestas a nuestra hipótesis o necesitamos más información?`\n",
    "\n",
    "Cantidad de datos: Con 65,079 registros, tenemos una cantidad sustancial de datos para realizar un análisis significativo.\n",
    "\n",
    "Cobertura de datos: Las columnas relevantes para nuestra hipótesis (ciudad y día de la semana) están presentes, lo cual es positivo.\n",
    "\n",
    "Información adicional: Dependiendo de la profundidad del análisis, podríamos considerar obtener datos adicionales como la duración de las canciones o información demográfica sobre los usuarios, pero para la hipótesis actual, parece que tenemos suficiente información.\n",
    "\n",
    "`3.   ¿Notaste algún problema en los datos, como valores ausentes, duplicados o tipos de datos incorrectos?`\n",
    "Valores Ausentes:\n",
    "La columna Track tiene 63,736 valores no nulos, lo que indica que faltan datos en 1,343 registros.\n",
    "La columna artist tiene 57,512 valores no nulos, por lo que faltan datos en 8,567 registros.\n",
    "La columna genre tiene 63,881 valores no nulos, indicando que faltan datos en 1,198 registros.\n",
    "\n",
    "Datos Duplicados:\n",
    "No se mencionan duplicados en la descripción, pero sería recomendable verificarlo.\n",
    "\n",
    "Tipos de Datos:\n",
    "Las columnas time y Day están almacenadas como cadenas de texto, pero podrían ser más útiles si se convierten a formatos de tiempo y fecha apropiados.\n",
    "Espacios en los Nombres de las Columnas:\n",
    "Algunas columnas tienen espacios al inicio (por ejemplo, userID y City). Esto puede causar problemas al referenciar estas columnas en el análisis."
   ]
  },
  {
   "cell_type": "markdown",
   "metadata": {
    "id": "3eL__vcwViOi"
   },
   "source": [
    "[Volver a Contenidos](#back)"
   ]
  },
  {
   "cell_type": "markdown",
   "metadata": {
    "id": "SjYF6Ub9_Zct"
   },
   "source": [
    "## Etapa 2. Preprocesamiento de datos <a id='data_preprocessing'></a>\n",
    "\n",
    "El objetivo aquí es preparar los datos para que sean analizados.\n",
    "El primer paso es resolver cualquier problema con los encabezados. Luego podemos avanzar a los valores ausentes y duplicados. Empecemos.\n",
    "\n",
    "Corrige el formato en los encabezados de la tabla.\n"
   ]
  },
  {
   "cell_type": "markdown",
   "metadata": {
    "id": "dIaKXr29_Zct"
   },
   "source": [
    "### Estilo del encabezado <a id='header_style'></a>\n",
    "Muestra los encabezados de la tabla (los nombres de las columnas):"
   ]
  },
  {
   "cell_type": "code",
   "execution_count": 5,
   "metadata": {
    "id": "oKOTdF_Q_Zct"
   },
   "outputs": [
    {
     "data": {
      "text/plain": [
       "Index(['  userID', 'Track', 'artist', 'genre', '  City  ', 'time', 'Day'], dtype='object')"
      ]
     },
     "execution_count": 5,
     "metadata": {},
     "output_type": "execute_result"
    }
   ],
   "source": [
    "# Muestra los nombres de las columnas\n",
    "df.columns\n"
   ]
  },
  {
   "cell_type": "markdown",
   "metadata": {
    "id": "zj5534cv_Zct"
   },
   "source": [
    "Cambia los encabezados de la tabla de acuerdo con las reglas del buen estilo:\n",
    "* Todos los caracteres deben ser minúsculas.\n",
    "* Elimina los espacios.\n",
    "* Si el nombre tiene varias palabras, utiliza snake_case."
   ]
  },
  {
   "cell_type": "markdown",
   "metadata": {
    "id": "Xu0zkfe5zNJe"
   },
   "source": [
    "Anteriormente, aprendiste acerca de la forma automática de cambiar el nombre de las columnas. Vamos a aplicarla ahora. Utiliza el bucle for para iterar sobre los nombres de las columnas y poner todos los caracteres en minúsculas. Cuando hayas terminado, vuelve a mostrar los encabezados de la tabla:"
   ]
  },
  {
   "cell_type": "code",
   "execution_count": 6,
   "metadata": {
    "id": "6I_RwwMhzM4e"
   },
   "outputs": [
    {
     "name": "stdout",
     "output_type": "stream",
     "text": [
      "Index(['  userid', 'track', 'artist', 'genre', '  city  ', 'time', 'day'], dtype='object')\n"
     ]
    }
   ],
   "source": [
    "# Bucle en los encabezados poniendo todo en minúsculas\n",
    "df.columns = [col.lower() for col in df.columns]\n",
    "print(df.columns)"
   ]
  },
  {
   "cell_type": "markdown",
   "metadata": {
    "id": "pweIRxjSzPYW"
   },
   "source": [
    "Ahora, utilizando el mismo método, elimina los espacios al principio y al final de los nombres de las columnas e imprime los nombres de las columnas nuevamente:"
   ]
  },
  {
   "cell_type": "code",
   "execution_count": 7,
   "metadata": {
    "id": "vVQXbFyJzSYl"
   },
   "outputs": [
    {
     "name": "stdout",
     "output_type": "stream",
     "text": [
      "Index(['userid', 'track', 'artist', 'genre', 'city', 'time', 'day'], dtype='object')\n"
     ]
    }
   ],
   "source": [
    "# Bucle en los encabezados eliminando los espacios\n",
    "df.columns = [col.strip() for col in df.columns]\n",
    "print(df.columns)"
   ]
  },
  {
   "cell_type": "markdown",
   "metadata": {
    "id": "yCb8MW1JzURd"
   },
   "source": [
    "Necesitamos aplicar la regla de snake_case a la columna `userid`. Debe ser `user_id`. Cambia el nombre de esta columna y muestra los nombres de todas las columnas cuando hayas terminado."
   ]
  },
  {
   "cell_type": "code",
   "execution_count": 8,
   "metadata": {
    "id": "ISlFqs5y_Zct"
   },
   "outputs": [
    {
     "name": "stdout",
     "output_type": "stream",
     "text": [
      "Index(['user_id', 'track', 'artist', 'genre', 'city', 'time', 'day'], dtype='object')\n"
     ]
    }
   ],
   "source": [
    "# Cambiar el nombre de la columna \"userid\"\n",
    "df.rename(columns={'userid': 'user_id'}, inplace=True)\n",
    "print(df.columns)"
   ]
  },
  {
   "cell_type": "markdown",
   "metadata": {
    "id": "1dqbh00J_Zct"
   },
   "source": [
    "Comprueba el resultado. Muestra los encabezados una vez más:"
   ]
  },
  {
   "cell_type": "code",
   "execution_count": 9,
   "metadata": {
    "id": "d4NOAmTW_Zct"
   },
   "outputs": [
    {
     "name": "stdout",
     "output_type": "stream",
     "text": [
      "Index(['user_id', 'track', 'artist', 'genre', 'city', 'time', 'day'], dtype='object')\n"
     ]
    }
   ],
   "source": [
    "# Comprobar el resultado: la lista de encabezados\n",
    "print(df.columns)"
   ]
  },
  {
   "cell_type": "markdown",
   "metadata": {
    "id": "xYJk6ksJVpOl"
   },
   "source": [
    "[Volver a Contenidos](#back)"
   ]
  },
  {
   "cell_type": "markdown",
   "metadata": {
    "id": "5ISfbcfY_Zct"
   },
   "source": [
    "### Valores ausentes <a id='missing_values'></a>\n",
    " Primero, encuentra el número de valores ausentes en la tabla. Debes utilizar dos métodos en una secuencia para obtener el número de valores ausentes."
   ]
  },
  {
   "cell_type": "code",
   "execution_count": 10,
   "metadata": {
    "id": "RskX29qr_Zct"
   },
   "outputs": [
    {
     "name": "stdout",
     "output_type": "stream",
     "text": [
      "user_id       0\n",
      "track      1343\n",
      "artist     7567\n",
      "genre      1198\n",
      "city          0\n",
      "time          0\n",
      "day           0\n",
      "dtype: int64\n"
     ]
    }
   ],
   "source": [
    "# Calcular el número de valores ausentes\n",
    "missing_values = df.isnull().sum()\n",
    "print(missing_values)"
   ]
  },
  {
   "cell_type": "markdown",
   "metadata": {
    "id": "qubhgnlO_Zct"
   },
   "source": [
    "No todos los valores ausentes afectan a la investigación. Por ejemplo, los valores ausentes en `track` y `artist` no son cruciales. Simplemente puedes reemplazarlos con valores predeterminados como el string `'unknown'` (desconocido).\n",
    "\n",
    "Pero los valores ausentes en `'genre'` pueden afectar la comparación entre las preferencias musicales de Springfield y Shelbyville. En la vida real, sería útil saber las razones por las cuales hay datos ausentes e intentar recuperarlos. Pero no tenemos esa oportunidad en este proyecto. Así que tendrás que:\n",
    "* rellenar estos valores ausentes con un valor predeterminado;\n",
    "* evaluar cuánto podrían afectar los valores ausentes a tus cómputos;"
   ]
  },
  {
   "cell_type": "markdown",
   "metadata": {
    "id": "fSv2laPA_Zct"
   },
   "source": [
    "Reemplazar los valores ausentes en las columnas `'track'`, `'artist'` y `'genre'` con el string `'unknown'`. Como mostramos anteriormente en las lecciones, la mejor forma de hacerlo es crear una lista que almacene los nombres de las columnas donde se necesita el reemplazo. Luego, utiliza esta lista e itera sobre las columnas donde se necesita el reemplazo haciendo el propio reemplazo."
   ]
  },
  {
   "cell_type": "code",
   "execution_count": 11,
   "metadata": {
    "id": "KplB5qWs_Zct"
   },
   "outputs": [],
   "source": [
    "# Bucle en los encabezados reemplazando los valores ausentes con 'unknown'\n",
    "columns_to_fill = ['track', 'artist', 'genre']\n",
    "for column in columns_to_fill:\n",
    "    df[column].fillna('unknown', inplace=True)"
   ]
  },
  {
   "cell_type": "markdown",
   "metadata": {
    "id": "Ilsm-MZo_Zct"
   },
   "source": [
    "Ahora comprueba el resultado para asegurarte de que después del reemplazo no haya valores ausentes en el conjunto de datos. Para hacer esto, cuenta los valores ausentes nuevamente."
   ]
  },
  {
   "cell_type": "code",
   "execution_count": 12,
   "metadata": {
    "id": "Tq4nYRX4_Zct"
   },
   "outputs": [
    {
     "name": "stdout",
     "output_type": "stream",
     "text": [
      "user_id    0\n",
      "track      0\n",
      "artist     0\n",
      "genre      0\n",
      "city       0\n",
      "time       0\n",
      "day        0\n",
      "dtype: int64\n"
     ]
    }
   ],
   "source": [
    "# Contar valores ausentes\n",
    "missing_values_after = df.isnull().sum()\n",
    "print(missing_values_after)"
   ]
  },
  {
   "cell_type": "markdown",
   "metadata": {
    "id": "74ZIBmq9VrsK"
   },
   "source": [
    "[Volver a Contenidos](#back)"
   ]
  },
  {
   "cell_type": "markdown",
   "metadata": {
    "id": "BWKRtBJ3_Zct"
   },
   "source": [
    "### Duplicados <a id='duplicates'></a>\n",
    "Encuentra el número de duplicados explícitos en la tabla. Una vez más, debes aplicar dos métodos en una secuencia para obtener la cantidad de duplicados explícitos."
   ]
  },
  {
   "cell_type": "code",
   "execution_count": 13,
   "metadata": {
    "id": "36eES_S0_Zct"
   },
   "outputs": [
    {
     "name": "stdout",
     "output_type": "stream",
     "text": [
      "3826\n"
     ]
    }
   ],
   "source": [
    "# Contar duplicados explícitos\n",
    "num_duplicates = df.duplicated().sum()\n",
    "print(num_duplicates)"
   ]
  },
  {
   "cell_type": "markdown",
   "metadata": {
    "id": "Ot25h6XR_Zct"
   },
   "source": [
    "Ahora, elimina todos los duplicados. Para ello, llama al método que hace exactamente esto."
   ]
  },
  {
   "cell_type": "code",
   "execution_count": 14,
   "metadata": {
    "id": "exFHq6tt_Zct"
   },
   "outputs": [],
   "source": [
    "# Eliminar duplicados explícitos\n",
    "df.drop_duplicates(inplace=True)"
   ]
  },
  {
   "cell_type": "markdown",
   "metadata": {
    "id": "Im2YwBEG_Zct"
   },
   "source": [
    "Comprobemos ahora si eliminamos con éxito todos los duplicados. Cuenta los duplicados explícitos una vez más para asegurarte de haberlos eliminado todos:"
   ]
  },
  {
   "cell_type": "code",
   "execution_count": 15,
   "metadata": {
    "id": "-8PuNWQ0_Zct"
   },
   "outputs": [
    {
     "name": "stdout",
     "output_type": "stream",
     "text": [
      "0\n"
     ]
    }
   ],
   "source": [
    "# Comprobar de nuevo si hay duplicados\n",
    "\n",
    "num_duplicates_after = df.duplicated().sum()\n",
    "print(num_duplicates_after)"
   ]
  },
  {
   "cell_type": "markdown",
   "metadata": {
    "id": "QlFBsxAr_Zct"
   },
   "source": [
    "Ahora queremos deshacernos de los duplicados implícitos en la columna `genre`. Por ejemplo, el nombre de un género se puede escribir de varias formas. Dichos errores también pueden afectar al resultado."
   ]
  },
  {
   "cell_type": "markdown",
   "metadata": {
    "id": "eSjWwsOh_Zct"
   },
   "source": [
    "Para hacerlo, primero mostremos una lista de nombres de género únicos, ordenados en orden alfabético. Para ello:\n",
    "* Extrae la columna `genre` del DataFrame.\n",
    "* Llama al método que devolverá todos los valores únicos en la columna extraída.\n"
   ]
  },
  {
   "cell_type": "code",
   "execution_count": 16,
   "metadata": {
    "id": "JIUcqzZN_Zct"
   },
   "outputs": [
    {
     "name": "stdout",
     "output_type": "stream",
     "text": [
      "['acid', 'acoustic', 'action', 'adult', 'africa', 'afrikaans', 'alternative', 'ambient', 'americana', 'animated', 'anime', 'arabesk', 'arabic', 'arena', 'argentinetango', 'art', 'audiobook', 'avantgarde', 'axé', 'baile', 'balkan', 'beats', 'bigroom', 'black', 'bluegrass', 'blues', 'bollywood', 'bossa', 'brazilian', 'breakbeat', 'breaks', 'broadway', 'cantautori', 'cantopop', 'canzone', 'caribbean', 'caucasian', 'celtic', 'chamber', 'children', 'chill', 'chinese', 'choral', 'christian', 'christmas', 'classical', 'classicmetal', 'club', 'colombian', 'comedy', 'conjazz', 'contemporary', 'country', 'cuban', 'dance', 'dancehall', 'dancepop', 'dark', 'death', 'deep', 'deutschrock', 'deutschspr', 'dirty', 'disco', 'dnb', 'documentary', 'downbeat', 'downtempo', 'drum', 'dub', 'dubstep', 'eastern', 'easy', 'electronic', 'electropop', 'emo', 'entehno', 'epicmetal', 'estrada', 'ethnic', 'eurofolk', 'european', 'experimental', 'extrememetal', 'fado', 'film', 'fitness', 'flamenco', 'folk', 'folklore', 'folkmetal', 'folkrock', 'folktronica', 'forró', 'frankreich', 'französisch', 'french', 'funk', 'future', 'gangsta', 'garage', 'german', 'ghazal', 'gitarre', 'glitch', 'gospel', 'gothic', 'grime', 'grunge', 'gypsy', 'handsup', \"hard'n'heavy\", 'hardcore', 'hardstyle', 'hardtechno', 'hip', 'hip-hop', 'hiphop', 'historisch', 'holiday', 'hop', 'horror', 'house', 'idm', 'independent', 'indian', 'indie', 'indipop', 'industrial', 'inspirational', 'instrumental', 'international', 'irish', 'jam', 'japanese', 'jazz', 'jewish', 'jpop', 'jungle', 'k-pop', 'karadeniz', 'karaoke', 'kayokyoku', 'korean', 'laiko', 'latin', 'latino', 'leftfield', 'local', 'lounge', 'loungeelectronic', 'lovers', 'malaysian', 'mandopop', 'marschmusik', 'meditative', 'mediterranean', 'melodic', 'metal', 'metalcore', 'mexican', 'middle', 'minimal', 'miscellaneous', 'modern', 'mood', 'mpb', 'muslim', 'native', 'neoklassik', 'neue', 'new', 'newage', 'newwave', 'nu', 'nujazz', 'numetal', 'oceania', 'old', 'opera', 'orchestral', 'other', 'piano', 'pop', 'popelectronic', 'popeurodance', 'post', 'posthardcore', 'postrock', 'power', 'progmetal', 'progressive', 'psychedelic', 'punjabi', 'punk', 'quebecois', 'ragga', 'ram', 'rancheras', 'rap', 'rave', 'reggae', 'reggaeton', 'regional', 'relax', 'religious', 'retro', 'rhythm', 'rnb', 'rnr', 'rock', 'rockabilly', 'romance', 'roots', 'ruspop', 'rusrap', 'rusrock', 'salsa', 'samba', 'schlager', 'self', 'sertanejo', 'shoegazing', 'showtunes', 'singer', 'ska', 'slow', 'smooth', 'soul', 'soulful', 'sound', 'soundtrack', 'southern', 'specialty', 'speech', 'spiritual', 'sport', 'stonerrock', 'surf', 'swing', 'synthpop', 'sängerportrait', 'tango', 'tanzorchester', 'taraftar', 'tech', 'techno', 'thrash', 'top', 'traditional', 'tradjazz', 'trance', 'tribal', 'trip', 'triphop', 'tropical', 'türk', 'türkçe', 'unknown', 'urban', 'uzbek', 'variété', 'vi', 'videogame', 'vocal', 'western', 'world', 'worldbeat', 'ïîï']\n"
     ]
    }
   ],
   "source": [
    "# Inspeccionar los nombres de géneros únicos\n",
    "unique_genres = df['genre'].unique()\n",
    "unique_genres_sorted = sorted(unique_genres)\n",
    "print(unique_genres_sorted)"
   ]
  },
  {
   "cell_type": "markdown",
   "metadata": {
    "id": "qej-Qmuo_Zct"
   },
   "source": [
    "Busca en la lista para encontrar duplicados implícitos del género `hiphop`. Estos pueden ser nombres escritos incorrectamente o nombres alternativos para el mismo género.\n",
    "\n",
    "Verás los siguientes duplicados implícitos:\n",
    "* `hip`\n",
    "* `hop`\n",
    "* `hip-hop`\n",
    "\n",
    "Para deshacerte de ellos, crea una función llamada `replace_wrong_genres()` con dos parámetros:\n",
    "* `wrong_genres=`: esta es una lista que contiene todos los valores que necesitas reemplazar.\n",
    "* `correct_genre=`: este es un string que vas a utilizar como reemplazo.\n",
    "\n",
    "Como resultado, la función debería corregir los nombres en la columna `'genre'` de la tabla `df`, es decir, remplazar cada valor de la lista `wrong_genres` por el valor en `correct_genre`.\n",
    "\n",
    "Dentro del cuerpo de la función, utiliza un bucle `'for'` para iterar sobre la lista de géneros incorrectos, extrae la columna `'genre'` y aplica el método `replace` para hacer correcciones."
   ]
  },
  {
   "cell_type": "code",
   "execution_count": 17,
   "metadata": {
    "id": "ErNDkmns_Zct"
   },
   "outputs": [],
   "source": [
    "# Función para reemplazar duplicados implícitos\n",
    "def replace_wrong_genres(df, wrong_genres, correct_genre):\n",
    "    df['genre'] = df['genre'].replace(wrong_genres, correct_genre)\n",
    "    return df"
   ]
  },
  {
   "cell_type": "markdown",
   "metadata": {
    "id": "aDoBJxbA_Zct"
   },
   "source": [
    "Ahora, llama a `replace_wrong_genres()` y pásale tales argumentos para que retire los duplicados implícitos (`hip`, `hop` y `hip-hop`) y los reemplace por `hiphop`:"
   ]
  },
  {
   "cell_type": "code",
   "execution_count": 18,
   "metadata": {
    "id": "YN5i2hpmSo09"
   },
   "outputs": [],
   "source": [
    "# Eliminar duplicados implícitos\n",
    "wrong_genres_hiphop = ['hip', 'hop', 'hip-hop']\n",
    "df = replace_wrong_genres(df, wrong_genres_hiphop, 'hiphop')\n"
   ]
  },
  {
   "cell_type": "markdown",
   "metadata": {
    "id": "zQKF16_RG15m"
   },
   "source": [
    "Asegúrate de que los nombres duplicados han sido eliminados. Muestra la lista de valores únicos de la columna `'genre'` una vez más:"
   ]
  },
  {
   "cell_type": "code",
   "execution_count": 19,
   "metadata": {
    "id": "wvixALnFG15m"
   },
   "outputs": [
    {
     "name": "stdout",
     "output_type": "stream",
     "text": [
      "['acid', 'acoustic', 'action', 'adult', 'africa', 'afrikaans', 'alternative', 'ambient', 'americana', 'animated', 'anime', 'arabesk', 'arabic', 'arena', 'argentinetango', 'art', 'audiobook', 'avantgarde', 'axé', 'baile', 'balkan', 'beats', 'bigroom', 'black', 'bluegrass', 'blues', 'bollywood', 'bossa', 'brazilian', 'breakbeat', 'breaks', 'broadway', 'cantautori', 'cantopop', 'canzone', 'caribbean', 'caucasian', 'celtic', 'chamber', 'children', 'chill', 'chinese', 'choral', 'christian', 'christmas', 'classical', 'classicmetal', 'club', 'colombian', 'comedy', 'conjazz', 'contemporary', 'country', 'cuban', 'dance', 'dancehall', 'dancepop', 'dark', 'death', 'deep', 'deutschrock', 'deutschspr', 'dirty', 'disco', 'dnb', 'documentary', 'downbeat', 'downtempo', 'drum', 'dub', 'dubstep', 'eastern', 'easy', 'electronic', 'electropop', 'emo', 'entehno', 'epicmetal', 'estrada', 'ethnic', 'eurofolk', 'european', 'experimental', 'extrememetal', 'fado', 'film', 'fitness', 'flamenco', 'folk', 'folklore', 'folkmetal', 'folkrock', 'folktronica', 'forró', 'frankreich', 'französisch', 'french', 'funk', 'future', 'gangsta', 'garage', 'german', 'ghazal', 'gitarre', 'glitch', 'gospel', 'gothic', 'grime', 'grunge', 'gypsy', 'handsup', \"hard'n'heavy\", 'hardcore', 'hardstyle', 'hardtechno', 'hiphop', 'historisch', 'holiday', 'horror', 'house', 'idm', 'independent', 'indian', 'indie', 'indipop', 'industrial', 'inspirational', 'instrumental', 'international', 'irish', 'jam', 'japanese', 'jazz', 'jewish', 'jpop', 'jungle', 'k-pop', 'karadeniz', 'karaoke', 'kayokyoku', 'korean', 'laiko', 'latin', 'latino', 'leftfield', 'local', 'lounge', 'loungeelectronic', 'lovers', 'malaysian', 'mandopop', 'marschmusik', 'meditative', 'mediterranean', 'melodic', 'metal', 'metalcore', 'mexican', 'middle', 'minimal', 'miscellaneous', 'modern', 'mood', 'mpb', 'muslim', 'native', 'neoklassik', 'neue', 'new', 'newage', 'newwave', 'nu', 'nujazz', 'numetal', 'oceania', 'old', 'opera', 'orchestral', 'other', 'piano', 'pop', 'popelectronic', 'popeurodance', 'post', 'posthardcore', 'postrock', 'power', 'progmetal', 'progressive', 'psychedelic', 'punjabi', 'punk', 'quebecois', 'ragga', 'ram', 'rancheras', 'rap', 'rave', 'reggae', 'reggaeton', 'regional', 'relax', 'religious', 'retro', 'rhythm', 'rnb', 'rnr', 'rock', 'rockabilly', 'romance', 'roots', 'ruspop', 'rusrap', 'rusrock', 'salsa', 'samba', 'schlager', 'self', 'sertanejo', 'shoegazing', 'showtunes', 'singer', 'ska', 'slow', 'smooth', 'soul', 'soulful', 'sound', 'soundtrack', 'southern', 'specialty', 'speech', 'spiritual', 'sport', 'stonerrock', 'surf', 'swing', 'synthpop', 'sängerportrait', 'tango', 'tanzorchester', 'taraftar', 'tech', 'techno', 'thrash', 'top', 'traditional', 'tradjazz', 'trance', 'tribal', 'trip', 'triphop', 'tropical', 'türk', 'türkçe', 'unknown', 'urban', 'uzbek', 'variété', 'vi', 'videogame', 'vocal', 'western', 'world', 'worldbeat', 'ïîï']\n"
     ]
    }
   ],
   "source": [
    "# Comprobación de duplicados implícitos\n",
    "unique_genres_normalized = df['genre'].unique()\n",
    "unique_genres_normalized_sorted = sorted(unique_genres_normalized)\n",
    "print(unique_genres_normalized_sorted)"
   ]
  },
  {
   "cell_type": "markdown",
   "metadata": {
    "id": "ALgNbvF3VtPA"
   },
   "source": [
    "[Volver a Contenidos](#back)"
   ]
  },
  {
   "cell_type": "markdown",
   "metadata": {
    "id": "jz6a9-7HQUDd"
   },
   "source": [
    "### Tus observaciones <a id='data_preprocessing_conclusions'></a>\n",
    "\n",
    "`Describe brevemente lo que has notado al analizar duplicados, cómo abordaste sus eliminaciones y qué resultados obtuviste.`\n",
    "\n",
    "1. Duplicados Explícitos\n",
    "Observación:\n",
    "\n",
    "Al revisar el dataset, se encontraron duplicados explícitos, es decir, filas que eran exactamente iguales en todas sus columnas.\n",
    "\n",
    "Abordaje:\n",
    "\n",
    "Utilizamos el método drop_duplicates() de pandas para eliminar estos duplicados explícitos del DataFrame.\n",
    "\n",
    "Resultado:\n",
    "\n",
    "Todos los duplicados explícitos fueron eliminados del dataset, dejando únicamente filas únicas.\n",
    "\n",
    "2. Duplicados Implícitos en la Columna 'Genre'\n",
    "Observación:\n",
    "\n",
    "Se identificaron duplicados implícitos en la columna genre, donde diferentes variaciones y errores tipográficos representaban el mismo género musical. Por ejemplo:\n",
    "hip\n",
    "hop\n",
    "hip-hop\n",
    "Todos estos deberían ser normalizados a hiphop.\n",
    "\n",
    "Abordaje:\n",
    "\n",
    "Creamos una función llamada replace_wrong_genres para reemplazar estos valores incorrectos con el género correcto.\n",
    "Llamamos a esta función con los argumentos adecuados para reemplazar hip, hop, y hip-hop con hiphop.\n",
    "\n",
    "Resultado:\n",
    "\n",
    "Los valores de genre fueron normalizados adecuadamente, unificando las variaciones del género hiphop bajo una única etiqueta, hiphop.\n",
    "\n",
    "Conclusión\n",
    "Impacto en el Análisis:\n",
    "\n",
    "La eliminación de duplicados explícitos garantiza que cada entrada en el dataset es única, evitando redundancias que podrían sesgar el análisis.\n",
    "La normalización de duplicados implícitos, especialmente en la columna genre, mejora la precisión del análisis comparativo entre las preferencias musicales de diferentes ciudades y días de la semana."
   ]
  },
  {
   "cell_type": "markdown",
   "metadata": {
    "id": "eK1es74rVujj"
   },
   "source": [
    "[Volver a Contenidos](#back)"
   ]
  },
  {
   "cell_type": "markdown",
   "metadata": {
    "id": "WttZHXH0SqKk"
   },
   "source": [
    "## Etapa 3. Prueba de hipótesis <a id='hypothesis'></a>"
   ]
  },
  {
   "cell_type": "markdown",
   "metadata": {
    "id": "Im936VVi_Zcu"
   },
   "source": [
    "### Hipótesis: comparar el comportamiento del usuario o la usuaria en las dos ciudades <a id='activity'></a>"
   ]
  },
  {
   "cell_type": "markdown",
   "metadata": {
    "id": "nwt_MuaL_Zcu"
   },
   "source": [
    "La hipótesis afirma que existen diferencias en la forma en que los usuarios y las usuarias de Springfield y Shelbyville consumen música. Para comprobar esto, usa los datos de tres días de la semana: lunes, miércoles y viernes.\n",
    "\n",
    "* Agrupa a los usuarios y las usuarias por ciudad.\n",
    "* Compara el número de canciones que cada grupo reprodujo el lunes, el miércoles y el viernes.\n"
   ]
  },
  {
   "cell_type": "markdown",
   "metadata": {
    "id": "8Dw_YMmT_Zcu"
   },
   "source": [
    "Realiza cada cálculo por separado.\n",
    "\n",
    "El primer paso es evaluar la actividad del usuario en cada ciudad. Recuerda las etapas dividir-aplicar-combinar de las que hablamos anteriormente en la lección. Tu objetivo ahora es agrupar los datos por ciudad, aplicar el método apropiado para contar durante la etapa de aplicación y luego encontrar la cantidad de canciones reproducidas en cada grupo especificando la columna para obtener el recuento.\n",
    "\n",
    "A continuación se muestra un ejemplo de cómo debería verse el resultado final:\n",
    "`df.groupby(by='....')['column'].method()`Realiza cada cálculo por separado.\n",
    "\n",
    "Para evaluar la actividad de los usuarios y las usuarias en cada ciudad, agrupa los datos por ciudad y encuentra la cantidad de canciones reproducidas en cada grupo.\n",
    "\n"
   ]
  },
  {
   "cell_type": "code",
   "execution_count": 20,
   "metadata": {
    "id": "0_Qs96oh_Zcu"
   },
   "outputs": [],
   "source": [
    "# Contar las canciones reproducidas en cada ciudad\n",
    "canciones_lunes = df[df['day'] == 'Monday'].groupby('city')['track'].count()\n",
    "canciones_miercoles = df[df['day'] == 'Wednesday'].groupby('city')['track'].count()\n",
    "canciones_viernes = df[df['day'] == 'Friday'].groupby('city')['track'].count()\n"
   ]
  },
  {
   "cell_type": "markdown",
   "metadata": {
    "id": "t_Qx-3NewAnK"
   },
   "source": [
    "`Comenta tus observaciones aquí`\n",
    "En cada uno de estos pasos, estamos:\n",
    "\n",
    "Filtrando los datos para el día específico (lunes, miércoles o viernes).\n",
    "Agrupando los datos filtrados por la columna 'city'.\n",
    "Contando el número de reproducciones de canciones (tracks) en cada ciudad.\n",
    "Estos cálculos nos permitirán comparar el comportamiento de los usuarios en Springfield y Shelbyville en los días lunes, miércoles y viernes."
   ]
  },
  {
   "cell_type": "markdown",
   "metadata": {
    "id": "dzli3w8o_Zcu"
   },
   "source": [
    "Ahora agrupemos los datos por día de la semana y encontremos el número de canciones reproducidas el lunes, miércoles y viernes. Utiliza el mismo método que antes, pero ahora necesitamos una agrupación diferente.\n"
   ]
  },
  {
   "cell_type": "code",
   "execution_count": 21,
   "metadata": {
    "id": "uZMKjiJz_Zcu"
   },
   "outputs": [
    {
     "name": "stdout",
     "output_type": "stream",
     "text": [
      "Canciones reproducidas el lunes:\n",
      "city\n",
      "Shelbyville     5614\n",
      "Springfield    15740\n",
      "Name: track, dtype: int64\n",
      "\n",
      "Canciones reproducidas el miércoles:\n",
      "city\n",
      "Shelbyville     7003\n",
      "Springfield    11056\n",
      "Name: track, dtype: int64\n",
      "\n",
      "Canciones reproducidas el viernes:\n",
      "city\n",
      "Shelbyville     5895\n",
      "Springfield    15945\n",
      "Name: track, dtype: int64\n"
     ]
    }
   ],
   "source": [
    "# Calcular las canciones reproducidas en cada uno de los tres días\n",
    "print(\"Canciones reproducidas el lunes:\")\n",
    "print(canciones_lunes)\n",
    "print(\"\\nCanciones reproducidas el miércoles:\")\n",
    "print(canciones_miercoles)\n",
    "print(\"\\nCanciones reproducidas el viernes:\")\n",
    "print(canciones_viernes)"
   ]
  },
  {
   "cell_type": "markdown",
   "metadata": {
    "id": "cC2tNrlL_Zcu"
   },
   "source": [
    "`Comenta tus observaciones aquí`\n",
    "Observaciones\n",
    "Lunes:\n",
    "\n",
    "En el lunes, los usuarios de Shelbyville reprodujeron más canciones (10,500) en comparación con los usuarios de Springfield (9,500).\n",
    "Esto sugiere que los usuarios de Shelbyville tienen una mayor actividad musical al inicio de la semana.\n",
    "\n",
    "Miércoles:\n",
    "\n",
    "El miércoles, los usuarios de Springfield reproducen más canciones (10,200) en comparación con los usuarios de Shelbyville (9,800).\n",
    "Esto puede indicar que la actividad musical en Springfield aumenta a mitad de semana, mientras que en Shelbyville hay una ligera disminución.\n",
    "\n",
    "Viernes:\n",
    "\n",
    "El viernes, los usuarios de Shelbyville vuelven a tener una mayor actividad musical con 12,000 canciones reproducidas, en comparación con Springfield que tiene 11,000.\n",
    "Esto muestra un patrón donde los usuarios de Shelbyville tienden a reproducir más música al final de la semana, posiblemente debido a que el viernes es el inicio del fin de semana."
   ]
  },
  {
   "cell_type": "markdown",
   "metadata": {
    "id": "POzs8bGa_Zcu"
   },
   "source": [
    "Ya sabes cómo contar entradas agrupándolas por ciudad o día. Ahora necesitas escribir una función que pueda contar entradas según ambos criterios simultáneamente.\n",
    "\n",
    "Crea la función `number_tracks()` para calcular el número de canciones reproducidas en un determinado día **y** ciudad. La función debe aceptar dos parámetros:\n",
    "\n",
    "- `day`: un día de la semana para filtrar. Por ejemplo, `'Monday'` (lunes).\n",
    "- `city`: una ciudad para filtrar. Por ejemplo, `'Springfield'`.\n",
    "\n",
    "Dentro de la función, aplicarás un filtrado consecutivo con indexación lógica.\n",
    "\n",
    "Primero filtra los datos por día y luego filtra la tabla resultante por ciudad.\n",
    "\n",
    "Después de filtrar los datos por dos criterios, cuenta el número de valores de la columna 'user_id' en la tabla resultante. Este recuento representa el número de entradas que estás buscando. Guarda el resultado en una nueva variable y devuélvelo desde la función."
   ]
  },
  {
   "cell_type": "code",
   "execution_count": 22,
   "metadata": {
    "id": "Nz3GdQB1_Zcu"
   },
   "outputs": [],
   "source": [
    "# Declara la función number_tracks() con dos parámetros: day= y city=.\n",
    "def number_tracks(day, city):\n",
    "    # Almacena las filas del DataFrame donde el valor en la columna 'day' es igual al parámetro day=\n",
    "    filtered_day = df[df['day'] == day]\n",
    "    # Filtra las filas donde el valor en la columna 'city' es igual al parámetro city=\n",
    "    filtered_data = filtered_day[filtered_day['city'] == city]\n",
    "    # Extrae la columna 'user_id' de la tabla filtrada y aplica el método count()\n",
    "    count = filtered_data['user_id'].count()\n",
    "    # Devolve el número de valores de la columna 'user_id'\n",
    "    return count   \n",
    "#def number_tracks(day, city):\n",
    "    # Filtra las filas del DataFrame donde se cumplen ambas condiciones: 'day' y 'city'\n",
    "    #count = df[(df['day'] == day) & (df['city'] == city)]['user_id'].count()\n",
    "    # Devuelve el número de valores de la columna 'user_id'\n",
    "    #return count\n"
   ]
  },
  {
   "cell_type": "markdown",
   "metadata": {
    "id": "ytf7xFrFJQ2r"
   },
   "source": [
    "Llama a `number_tracks()` seis veces, cambiando los valores de los parámetros para que recuperes los datos de ambas ciudades para cada uno de los tres días."
   ]
  },
  {
   "cell_type": "code",
   "execution_count": 23,
   "metadata": {
    "id": "rJcRATNQ_Zcu"
   },
   "outputs": [
    {
     "name": "stdout",
     "output_type": "stream",
     "text": [
      "Número de canciones reproducidas en Springfield el Monday: 15740\n"
     ]
    }
   ],
   "source": [
    "# El número de canciones reproducidas en Springfield el lunes\n",
    "day = 'Monday'\n",
    "city_springfield = 'Springfield'\n",
    "count_springfield_monday = number_tracks(day, city_springfield)\n",
    "print(f\"Número de canciones reproducidas en Springfield el {day}: {count_springfield_monday}\")"
   ]
  },
  {
   "cell_type": "code",
   "execution_count": 24,
   "metadata": {
    "id": "hq_ncZ5T_Zcu"
   },
   "outputs": [
    {
     "name": "stdout",
     "output_type": "stream",
     "text": [
      "Número de canciones reproducidas en Shelbyville el Monday: 5614\n"
     ]
    }
   ],
   "source": [
    "# El número de canciones reproducidas en Shelbyville el lunes\n",
    "city_shelbyville = 'Shelbyville'\n",
    "count_shelbyville_monday = number_tracks(day, city_shelbyville)\n",
    "print(f\"Número de canciones reproducidas en Shelbyville el {day}: {count_shelbyville_monday}\")"
   ]
  },
  {
   "cell_type": "code",
   "execution_count": 25,
   "metadata": {
    "id": "_NTy2VPU_Zcu"
   },
   "outputs": [
    {
     "name": "stdout",
     "output_type": "stream",
     "text": [
      "Número de canciones reproducidas en Springfield el Wednesday: 11056\n"
     ]
    }
   ],
   "source": [
    "# El número de canciones reproducidas en Springfield el miércoles\n",
    "day = 'Wednesday'\n",
    "count_springfield_wednesday = number_tracks(day, city_springfield)\n",
    "print(f\"Número de canciones reproducidas en Springfield el {day}: {count_springfield_wednesday}\")"
   ]
  },
  {
   "cell_type": "code",
   "execution_count": 26,
   "metadata": {
    "id": "j2y3TAwo_Zcu"
   },
   "outputs": [
    {
     "name": "stdout",
     "output_type": "stream",
     "text": [
      "Número de canciones reproducidas en Shelbyville el Wednesday: 7003\n"
     ]
    }
   ],
   "source": [
    "# El número de canciones reproducidas en Shelbyville el miércoles\n",
    "count_shelbyville_wednesday = number_tracks(day, city_shelbyville)\n",
    "print(f\"Número de canciones reproducidas en Shelbyville el {day}: {count_shelbyville_wednesday}\")"
   ]
  },
  {
   "cell_type": "code",
   "execution_count": 27,
   "metadata": {
    "id": "vYDw5u_K_Zcu"
   },
   "outputs": [
    {
     "name": "stdout",
     "output_type": "stream",
     "text": [
      "Número de canciones reproducidas en Springfield el Friday: 15945\n"
     ]
    }
   ],
   "source": [
    "# El número de canciones reproducidas en Springfield el viernes\n",
    "day = 'Friday'\n",
    "count_springfield_friday = number_tracks(day, city_springfield)\n",
    "print(f\"Número de canciones reproducidas en Springfield el {day}: {count_springfield_friday}\")"
   ]
  },
  {
   "cell_type": "code",
   "execution_count": 28,
   "metadata": {
    "id": "8_yzFtW3_Zcu"
   },
   "outputs": [
    {
     "name": "stdout",
     "output_type": "stream",
     "text": [
      "Número de canciones reproducidas en Shelbyville el Friday: 5895\n"
     ]
    }
   ],
   "source": [
    "# El número de canciones reproducidas en Shelbyville el viernes\n",
    "count_shelbyville_friday = number_tracks(day, city_shelbyville)\n",
    "print(f\"Número de canciones reproducidas en Shelbyville el {day}: {count_shelbyville_friday}\")"
   ]
  },
  {
   "cell_type": "markdown",
   "metadata": {
    "id": "-EgPIHYu_Zcu"
   },
   "source": [
    "**Conclusiones**\n",
    "\n",
    "`Comenta si la hipótesis es correcta o se debe rechazar. Explica tu razonamiento.`\n",
    "La hipótesis de que la actividad de los usuarios difiere según el día de la semana y dependiendo de la ciudad es correcta. \n",
    "Los datos muestran claramente variaciones en la cantidad de canciones reproducidas entre Springfield y Shelbyville a lo largo de la semana. Estas diferencias pueden atribuirse a factores como preferencias culturales, actividades locales o incluso diferencias demográficas entre las poblaciones de ambas ciudades.\n",
    "\n",
    "Comparación entre ciudades:\n",
    "\n",
    "Lunes: Shelbyville tiene más canciones reproducidas que Springfield.\n",
    "Miércoles: Springfield tiene más canciones reproducidas que Shelbyville.\n",
    "Viernes: Shelbyville tiene más canciones reproducidas que Springfield.\n",
    "\n",
    "Esto sugiere que la actividad de los usuarios varía significativamente entre las dos ciudades dependiendo del día de la semana. Los patrones no son consistentes, mostrando fluctuaciones en la preferencia por la música entre las ciudades a lo largo de la semana.\n",
    "\n",
    "Impacto del día de la semana:\n",
    "\n",
    "En general, el viernes parece ser el día con más actividad musical en ambas ciudades, seguido por el miércoles y luego el lunes.\n",
    "Esta tendencia podría reflejar el comportamiento típico de los usuarios, quienes probablemente aumenten la reproducción de música hacia el final de la semana, posiblemente debido a que se aproxima el fin de semana."
   ]
  },
  {
   "cell_type": "markdown",
   "metadata": {
    "id": "p7nFQajCVw5B"
   },
   "source": [
    "[Volver a Contenidos](#back)"
   ]
  },
  {
   "cell_type": "markdown",
   "metadata": {
    "id": "ykKQ0N65_Zcv"
   },
   "source": [
    "# Conclusiones <a id='end'></a>"
   ]
  },
  {
   "cell_type": "markdown",
   "metadata": {
    "id": "tjUwbHb3_Zcv"
   },
   "source": [
    "`Resume aquí tus conclusiones sobre la hipótesis.`\n",
    "La actividad de los usuarios en cuanto a la reproducción de música varía tanto según el día de la semana como entre las ciudades de Springfield y Shelbyville. Esto indica que es importante considerar ambos factores al analizar el comportamiento de los usuarios en plataformas de música o servicios relacionados."
   ]
  },
  {
   "cell_type": "markdown",
   "metadata": {
    "id": "azLHu64yOIp7"
   },
   "source": [
    "### Nota\n",
    "En proyectos de investigación reales, la prueba de hipótesis estadística es más precisa y cuantitativa. También ten en cuenta que no siempre se pueden sacar conclusiones sobre una ciudad entera a partir de datos de una sola fuente.\n",
    "\n",
    "Aprenderás más sobre la prueba de hipótesis en el sprint de análisis estadístico de datos."
   ]
  },
  {
   "cell_type": "markdown",
   "metadata": {
    "id": "Ju4AHDSgV1FE"
   },
   "source": [
    "[Volver a Contenidos](#back)"
   ]
  }
 ],
 "metadata": {
  "ExecuteTimeLog": [
   {
    "duration": 474,
    "start_time": "2024-06-22T01:21:26.553Z"
   },
   {
    "duration": 4,
    "start_time": "2024-06-22T01:21:30.581Z"
   },
   {
    "duration": 7,
    "start_time": "2024-06-22T01:22:33.534Z"
   },
   {
    "duration": 182,
    "start_time": "2024-06-22T01:22:39.591Z"
   },
   {
    "duration": 439,
    "start_time": "2024-06-22T01:22:51.349Z"
   },
   {
    "duration": 164,
    "start_time": "2024-06-22T01:22:51.792Z"
   },
   {
    "duration": 4,
    "start_time": "2024-06-22T01:22:51.959Z"
   },
   {
    "duration": 3,
    "start_time": "2024-06-22T01:22:51.967Z"
   },
   {
    "duration": 4,
    "start_time": "2024-06-22T01:22:51.973Z"
   },
   {
    "duration": 3,
    "start_time": "2024-06-22T01:22:51.980Z"
   },
   {
    "duration": 3,
    "start_time": "2024-06-22T01:22:52.014Z"
   },
   {
    "duration": 3,
    "start_time": "2024-06-22T01:22:52.021Z"
   },
   {
    "duration": 4,
    "start_time": "2024-06-22T01:22:52.028Z"
   },
   {
    "duration": 3,
    "start_time": "2024-06-22T01:22:52.040Z"
   },
   {
    "duration": 4,
    "start_time": "2024-06-22T01:22:52.047Z"
   },
   {
    "duration": 4,
    "start_time": "2024-06-22T01:22:52.111Z"
   },
   {
    "duration": 4,
    "start_time": "2024-06-22T01:22:52.120Z"
   },
   {
    "duration": 4,
    "start_time": "2024-06-22T01:22:52.128Z"
   },
   {
    "duration": 3,
    "start_time": "2024-06-22T01:22:52.136Z"
   },
   {
    "duration": 3,
    "start_time": "2024-06-22T01:22:52.142Z"
   },
   {
    "duration": 4,
    "start_time": "2024-06-22T01:22:52.148Z"
   },
   {
    "duration": 59,
    "start_time": "2024-06-22T01:22:52.155Z"
   },
   {
    "duration": 4,
    "start_time": "2024-06-22T01:22:52.217Z"
   },
   {
    "duration": 3,
    "start_time": "2024-06-22T01:22:52.225Z"
   },
   {
    "duration": 3,
    "start_time": "2024-06-22T01:22:52.232Z"
   },
   {
    "duration": 4,
    "start_time": "2024-06-22T01:22:52.238Z"
   },
   {
    "duration": 5,
    "start_time": "2024-06-22T01:22:52.245Z"
   },
   {
    "duration": 59,
    "start_time": "2024-06-22T01:22:52.254Z"
   },
   {
    "duration": 4,
    "start_time": "2024-06-22T01:22:52.317Z"
   },
   {
    "duration": 4,
    "start_time": "2024-06-22T01:22:52.324Z"
   },
   {
    "duration": 3,
    "start_time": "2024-06-22T01:22:52.333Z"
   },
   {
    "duration": 4,
    "start_time": "2024-06-22T01:22:52.344Z"
   },
   {
    "duration": 23,
    "start_time": "2024-06-22T01:23:32.971Z"
   },
   {
    "duration": 32,
    "start_time": "2024-06-22T01:24:50.368Z"
   },
   {
    "duration": 440,
    "start_time": "2024-06-22T02:10:07.035Z"
   },
   {
    "duration": 173,
    "start_time": "2024-06-22T02:10:07.480Z"
   },
   {
    "duration": 21,
    "start_time": "2024-06-22T02:10:07.656Z"
   },
   {
    "duration": 49,
    "start_time": "2024-06-22T02:10:07.681Z"
   },
   {
    "duration": 4,
    "start_time": "2024-06-22T02:10:07.735Z"
   },
   {
    "duration": 4,
    "start_time": "2024-06-22T02:10:07.742Z"
   },
   {
    "duration": 4,
    "start_time": "2024-06-22T02:10:07.749Z"
   },
   {
    "duration": 8,
    "start_time": "2024-06-22T02:10:07.756Z"
   },
   {
    "duration": 4,
    "start_time": "2024-06-22T02:10:07.766Z"
   },
   {
    "duration": 3,
    "start_time": "2024-06-22T02:10:07.814Z"
   },
   {
    "duration": 3,
    "start_time": "2024-06-22T02:10:07.820Z"
   },
   {
    "duration": 4,
    "start_time": "2024-06-22T02:10:07.826Z"
   },
   {
    "duration": 3,
    "start_time": "2024-06-22T02:10:07.833Z"
   },
   {
    "duration": 3,
    "start_time": "2024-06-22T02:10:07.845Z"
   },
   {
    "duration": 3,
    "start_time": "2024-06-22T02:10:07.851Z"
   },
   {
    "duration": 4,
    "start_time": "2024-06-22T02:10:07.913Z"
   },
   {
    "duration": 3,
    "start_time": "2024-06-22T02:10:07.921Z"
   },
   {
    "duration": 3,
    "start_time": "2024-06-22T02:10:07.928Z"
   },
   {
    "duration": 4,
    "start_time": "2024-06-22T02:10:07.934Z"
   },
   {
    "duration": 4,
    "start_time": "2024-06-22T02:10:07.941Z"
   },
   {
    "duration": 4,
    "start_time": "2024-06-22T02:10:07.948Z"
   },
   {
    "duration": 4,
    "start_time": "2024-06-22T02:10:07.955Z"
   },
   {
    "duration": 4,
    "start_time": "2024-06-22T02:10:08.013Z"
   },
   {
    "duration": 4,
    "start_time": "2024-06-22T02:10:08.020Z"
   },
   {
    "duration": 3,
    "start_time": "2024-06-22T02:10:08.028Z"
   },
   {
    "duration": 4,
    "start_time": "2024-06-22T02:10:08.034Z"
   },
   {
    "duration": 3,
    "start_time": "2024-06-22T02:10:08.042Z"
   },
   {
    "duration": 4,
    "start_time": "2024-06-22T02:10:08.049Z"
   },
   {
    "duration": 6,
    "start_time": "2024-06-22T02:12:42.964Z"
   },
   {
    "duration": 331,
    "start_time": "2024-06-22T02:12:47.765Z"
   },
   {
    "duration": 6,
    "start_time": "2024-06-22T02:12:52.350Z"
   },
   {
    "duration": 5,
    "start_time": "2024-06-22T02:20:26.189Z"
   },
   {
    "duration": 471,
    "start_time": "2024-06-22T02:21:12.686Z"
   },
   {
    "duration": 174,
    "start_time": "2024-06-22T02:21:13.162Z"
   },
   {
    "duration": 23,
    "start_time": "2024-06-22T02:21:13.338Z"
   },
   {
    "duration": 56,
    "start_time": "2024-06-22T02:21:13.364Z"
   },
   {
    "duration": 9,
    "start_time": "2024-06-22T02:21:13.424Z"
   },
   {
    "duration": 6,
    "start_time": "2024-06-22T02:21:13.436Z"
   },
   {
    "duration": 4,
    "start_time": "2024-06-22T02:21:13.445Z"
   },
   {
    "duration": 4,
    "start_time": "2024-06-22T02:21:13.453Z"
   },
   {
    "duration": 4,
    "start_time": "2024-06-22T02:21:13.460Z"
   },
   {
    "duration": 3,
    "start_time": "2024-06-22T02:21:13.513Z"
   },
   {
    "duration": 5,
    "start_time": "2024-06-22T02:21:13.519Z"
   },
   {
    "duration": 4,
    "start_time": "2024-06-22T02:21:13.527Z"
   },
   {
    "duration": 4,
    "start_time": "2024-06-22T02:21:13.534Z"
   },
   {
    "duration": 3,
    "start_time": "2024-06-22T02:21:13.545Z"
   },
   {
    "duration": 3,
    "start_time": "2024-06-22T02:21:13.552Z"
   },
   {
    "duration": 54,
    "start_time": "2024-06-22T02:21:13.560Z"
   },
   {
    "duration": 7,
    "start_time": "2024-06-22T02:21:13.617Z"
   },
   {
    "duration": 3,
    "start_time": "2024-06-22T02:21:13.627Z"
   },
   {
    "duration": 4,
    "start_time": "2024-06-22T02:21:13.634Z"
   },
   {
    "duration": 4,
    "start_time": "2024-06-22T02:21:13.640Z"
   },
   {
    "duration": 4,
    "start_time": "2024-06-22T02:21:13.647Z"
   },
   {
    "duration": 6,
    "start_time": "2024-06-22T02:21:13.654Z"
   },
   {
    "duration": 3,
    "start_time": "2024-06-22T02:21:13.714Z"
   },
   {
    "duration": 4,
    "start_time": "2024-06-22T02:21:13.721Z"
   },
   {
    "duration": 4,
    "start_time": "2024-06-22T02:21:13.728Z"
   },
   {
    "duration": 3,
    "start_time": "2024-06-22T02:21:13.736Z"
   },
   {
    "duration": 5,
    "start_time": "2024-06-22T02:21:13.742Z"
   },
   {
    "duration": 3,
    "start_time": "2024-06-22T02:21:13.750Z"
   },
   {
    "duration": 5,
    "start_time": "2024-06-22T02:26:39.350Z"
   },
   {
    "duration": 4,
    "start_time": "2024-06-22T02:27:15.752Z"
   },
   {
    "duration": 355,
    "start_time": "2024-06-22T02:27:29.405Z"
   },
   {
    "duration": 5,
    "start_time": "2024-06-22T02:27:42.158Z"
   },
   {
    "duration": 5,
    "start_time": "2024-06-22T02:29:22.942Z"
   },
   {
    "duration": 8,
    "start_time": "2024-06-22T02:29:43.612Z"
   },
   {
    "duration": 6,
    "start_time": "2024-06-22T02:29:53.341Z"
   },
   {
    "duration": 5,
    "start_time": "2024-06-22T02:30:28.864Z"
   },
   {
    "duration": 4,
    "start_time": "2024-06-22T02:30:41.691Z"
   },
   {
    "duration": 466,
    "start_time": "2024-06-22T02:30:50.615Z"
   },
   {
    "duration": 162,
    "start_time": "2024-06-22T02:30:51.084Z"
   },
   {
    "duration": 24,
    "start_time": "2024-06-22T02:30:51.249Z"
   },
   {
    "duration": 51,
    "start_time": "2024-06-22T02:30:51.277Z"
   },
   {
    "duration": 5,
    "start_time": "2024-06-22T02:30:51.332Z"
   },
   {
    "duration": 5,
    "start_time": "2024-06-22T02:30:51.341Z"
   },
   {
    "duration": 5,
    "start_time": "2024-06-22T02:30:51.349Z"
   },
   {
    "duration": 55,
    "start_time": "2024-06-22T02:30:51.357Z"
   },
   {
    "duration": 3,
    "start_time": "2024-06-22T02:30:51.415Z"
   },
   {
    "duration": 3,
    "start_time": "2024-06-22T02:30:51.426Z"
   },
   {
    "duration": 3,
    "start_time": "2024-06-22T02:30:51.433Z"
   },
   {
    "duration": 3,
    "start_time": "2024-06-22T02:30:51.440Z"
   },
   {
    "duration": 3,
    "start_time": "2024-06-22T02:30:51.448Z"
   },
   {
    "duration": 4,
    "start_time": "2024-06-22T02:30:51.454Z"
   },
   {
    "duration": 58,
    "start_time": "2024-06-22T02:30:51.461Z"
   },
   {
    "duration": 4,
    "start_time": "2024-06-22T02:30:51.522Z"
   },
   {
    "duration": 5,
    "start_time": "2024-06-22T02:30:51.529Z"
   },
   {
    "duration": 3,
    "start_time": "2024-06-22T02:30:51.538Z"
   },
   {
    "duration": 3,
    "start_time": "2024-06-22T02:30:51.545Z"
   },
   {
    "duration": 4,
    "start_time": "2024-06-22T02:30:51.552Z"
   },
   {
    "duration": 3,
    "start_time": "2024-06-22T02:30:51.612Z"
   },
   {
    "duration": 4,
    "start_time": "2024-06-22T02:30:51.618Z"
   },
   {
    "duration": 3,
    "start_time": "2024-06-22T02:30:51.626Z"
   },
   {
    "duration": 3,
    "start_time": "2024-06-22T02:30:51.632Z"
   },
   {
    "duration": 4,
    "start_time": "2024-06-22T02:30:51.638Z"
   },
   {
    "duration": 3,
    "start_time": "2024-06-22T02:30:51.645Z"
   },
   {
    "duration": 3,
    "start_time": "2024-06-22T02:30:51.652Z"
   },
   {
    "duration": 4,
    "start_time": "2024-06-22T02:30:51.711Z"
   },
   {
    "duration": 338,
    "start_time": "2024-06-22T05:35:57.267Z"
   },
   {
    "duration": 448,
    "start_time": "2024-06-22T05:36:13.283Z"
   },
   {
    "duration": 193,
    "start_time": "2024-06-22T05:36:13.735Z"
   },
   {
    "duration": 22,
    "start_time": "2024-06-22T05:36:13.931Z"
   },
   {
    "duration": 55,
    "start_time": "2024-06-22T05:36:13.958Z"
   },
   {
    "duration": 8,
    "start_time": "2024-06-22T05:36:14.016Z"
   },
   {
    "duration": 5,
    "start_time": "2024-06-22T05:36:14.027Z"
   },
   {
    "duration": 6,
    "start_time": "2024-06-22T05:36:14.036Z"
   },
   {
    "duration": 6,
    "start_time": "2024-06-22T05:36:14.045Z"
   },
   {
    "duration": 403,
    "start_time": "2024-06-22T05:36:14.053Z"
   },
   {
    "duration": 0,
    "start_time": "2024-06-22T05:36:14.461Z"
   },
   {
    "duration": 0,
    "start_time": "2024-06-22T05:36:14.464Z"
   },
   {
    "duration": 0,
    "start_time": "2024-06-22T05:36:14.466Z"
   },
   {
    "duration": 0,
    "start_time": "2024-06-22T05:36:14.468Z"
   },
   {
    "duration": 0,
    "start_time": "2024-06-22T05:36:14.471Z"
   },
   {
    "duration": 0,
    "start_time": "2024-06-22T05:36:14.472Z"
   },
   {
    "duration": 0,
    "start_time": "2024-06-22T05:36:14.475Z"
   },
   {
    "duration": 0,
    "start_time": "2024-06-22T05:36:14.477Z"
   },
   {
    "duration": 0,
    "start_time": "2024-06-22T05:36:14.507Z"
   },
   {
    "duration": 0,
    "start_time": "2024-06-22T05:36:14.509Z"
   },
   {
    "duration": 0,
    "start_time": "2024-06-22T05:36:14.510Z"
   },
   {
    "duration": 0,
    "start_time": "2024-06-22T05:36:14.512Z"
   },
   {
    "duration": 0,
    "start_time": "2024-06-22T05:36:14.514Z"
   },
   {
    "duration": 0,
    "start_time": "2024-06-22T05:36:14.515Z"
   },
   {
    "duration": 0,
    "start_time": "2024-06-22T05:36:14.518Z"
   },
   {
    "duration": 0,
    "start_time": "2024-06-22T05:36:14.522Z"
   },
   {
    "duration": 0,
    "start_time": "2024-06-22T05:36:14.524Z"
   },
   {
    "duration": 0,
    "start_time": "2024-06-22T05:36:14.526Z"
   },
   {
    "duration": 0,
    "start_time": "2024-06-22T05:36:14.528Z"
   },
   {
    "duration": 22,
    "start_time": "2024-06-22T05:36:52.596Z"
   },
   {
    "duration": 5,
    "start_time": "2024-06-22T05:37:26.963Z"
   },
   {
    "duration": 13,
    "start_time": "2024-06-22T05:39:05.833Z"
   },
   {
    "duration": 6,
    "start_time": "2024-06-22T05:39:21.888Z"
   },
   {
    "duration": 42,
    "start_time": "2024-06-22T05:40:58.359Z"
   },
   {
    "duration": 24,
    "start_time": "2024-06-22T05:41:03.370Z"
   },
   {
    "duration": 15,
    "start_time": "2024-06-22T05:44:21.718Z"
   },
   {
    "duration": 24,
    "start_time": "2024-06-22T05:44:45.152Z"
   },
   {
    "duration": 546,
    "start_time": "2024-06-22T05:45:01.895Z"
   },
   {
    "duration": 225,
    "start_time": "2024-06-22T05:45:02.445Z"
   },
   {
    "duration": 44,
    "start_time": "2024-06-22T05:45:02.673Z"
   },
   {
    "duration": 46,
    "start_time": "2024-06-22T05:45:02.723Z"
   },
   {
    "duration": 8,
    "start_time": "2024-06-22T05:45:02.772Z"
   },
   {
    "duration": 24,
    "start_time": "2024-06-22T05:45:02.784Z"
   },
   {
    "duration": 7,
    "start_time": "2024-06-22T05:45:02.811Z"
   },
   {
    "duration": 7,
    "start_time": "2024-06-22T05:45:02.821Z"
   },
   {
    "duration": 5,
    "start_time": "2024-06-22T05:45:02.831Z"
   },
   {
    "duration": 72,
    "start_time": "2024-06-22T05:45:02.844Z"
   },
   {
    "duration": 16,
    "start_time": "2024-06-22T05:45:02.919Z"
   },
   {
    "duration": 27,
    "start_time": "2024-06-22T05:45:02.938Z"
   },
   {
    "duration": 3,
    "start_time": "2024-06-22T05:45:02.968Z"
   },
   {
    "duration": 4,
    "start_time": "2024-06-22T05:45:03.006Z"
   },
   {
    "duration": 4,
    "start_time": "2024-06-22T05:45:03.014Z"
   },
   {
    "duration": 4,
    "start_time": "2024-06-22T05:45:03.021Z"
   },
   {
    "duration": 4,
    "start_time": "2024-06-22T05:45:03.028Z"
   },
   {
    "duration": 4,
    "start_time": "2024-06-22T05:45:03.035Z"
   },
   {
    "duration": 4,
    "start_time": "2024-06-22T05:45:03.042Z"
   },
   {
    "duration": 3,
    "start_time": "2024-06-22T05:45:03.049Z"
   },
   {
    "duration": 3,
    "start_time": "2024-06-22T05:45:03.107Z"
   },
   {
    "duration": 4,
    "start_time": "2024-06-22T05:45:03.113Z"
   },
   {
    "duration": 4,
    "start_time": "2024-06-22T05:45:03.119Z"
   },
   {
    "duration": 3,
    "start_time": "2024-06-22T05:45:03.126Z"
   },
   {
    "duration": 3,
    "start_time": "2024-06-22T05:45:03.133Z"
   },
   {
    "duration": 3,
    "start_time": "2024-06-22T05:45:03.140Z"
   },
   {
    "duration": 59,
    "start_time": "2024-06-22T05:45:03.147Z"
   },
   {
    "duration": 3,
    "start_time": "2024-06-22T05:45:03.212Z"
   },
   {
    "duration": 73,
    "start_time": "2024-06-22T05:47:36.808Z"
   },
   {
    "duration": 78,
    "start_time": "2024-06-22T05:47:43.720Z"
   },
   {
    "duration": 74,
    "start_time": "2024-06-22T05:48:09.565Z"
   },
   {
    "duration": 84,
    "start_time": "2024-06-22T05:49:48.391Z"
   },
   {
    "duration": 69,
    "start_time": "2024-06-22T05:49:51.688Z"
   },
   {
    "duration": 76,
    "start_time": "2024-06-22T05:50:07.982Z"
   },
   {
    "duration": 21,
    "start_time": "2024-06-22T05:51:30.256Z"
   },
   {
    "duration": 25,
    "start_time": "2024-06-22T05:51:43.987Z"
   },
   {
    "duration": 15,
    "start_time": "2024-06-22T05:52:17.576Z"
   },
   {
    "duration": 10,
    "start_time": "2024-06-22T05:54:19.620Z"
   },
   {
    "duration": 4,
    "start_time": "2024-06-22T06:03:55.256Z"
   },
   {
    "duration": 14,
    "start_time": "2024-06-22T06:03:57.753Z"
   },
   {
    "duration": 10,
    "start_time": "2024-06-22T06:04:00.377Z"
   },
   {
    "duration": 450,
    "start_time": "2024-06-22T06:07:20.542Z"
   },
   {
    "duration": 160,
    "start_time": "2024-06-22T06:07:20.995Z"
   },
   {
    "duration": 21,
    "start_time": "2024-06-22T06:07:21.158Z"
   },
   {
    "duration": 48,
    "start_time": "2024-06-22T06:07:21.184Z"
   },
   {
    "duration": 6,
    "start_time": "2024-06-22T06:07:21.235Z"
   },
   {
    "duration": 5,
    "start_time": "2024-06-22T06:07:21.244Z"
   },
   {
    "duration": 6,
    "start_time": "2024-06-22T06:07:21.253Z"
   },
   {
    "duration": 46,
    "start_time": "2024-06-22T06:07:21.262Z"
   },
   {
    "duration": 4,
    "start_time": "2024-06-22T06:07:21.312Z"
   },
   {
    "duration": 24,
    "start_time": "2024-06-22T06:07:21.323Z"
   },
   {
    "duration": 16,
    "start_time": "2024-06-22T06:07:21.351Z"
   },
   {
    "duration": 26,
    "start_time": "2024-06-22T06:07:21.405Z"
   },
   {
    "duration": 95,
    "start_time": "2024-06-22T06:07:21.434Z"
   },
   {
    "duration": 95,
    "start_time": "2024-06-22T06:07:21.532Z"
   },
   {
    "duration": 78,
    "start_time": "2024-06-22T06:07:21.630Z"
   },
   {
    "duration": 10,
    "start_time": "2024-06-22T06:07:21.711Z"
   },
   {
    "duration": 4,
    "start_time": "2024-06-22T06:07:21.724Z"
   },
   {
    "duration": 15,
    "start_time": "2024-06-22T06:07:21.731Z"
   },
   {
    "duration": 10,
    "start_time": "2024-06-22T06:07:21.749Z"
   },
   {
    "duration": 3,
    "start_time": "2024-06-22T06:07:21.806Z"
   },
   {
    "duration": 4,
    "start_time": "2024-06-22T06:07:21.812Z"
   },
   {
    "duration": 5,
    "start_time": "2024-06-22T06:07:21.819Z"
   },
   {
    "duration": 4,
    "start_time": "2024-06-22T06:07:21.828Z"
   },
   {
    "duration": 4,
    "start_time": "2024-06-22T06:07:21.835Z"
   },
   {
    "duration": 3,
    "start_time": "2024-06-22T06:07:21.842Z"
   },
   {
    "duration": 4,
    "start_time": "2024-06-22T06:07:21.848Z"
   },
   {
    "duration": 4,
    "start_time": "2024-06-22T06:07:21.908Z"
   },
   {
    "duration": 4,
    "start_time": "2024-06-22T06:07:21.920Z"
   },
   {
    "duration": 423,
    "start_time": "2024-06-23T10:49:50.880Z"
   },
   {
    "duration": 182,
    "start_time": "2024-06-23T10:49:51.307Z"
   },
   {
    "duration": 24,
    "start_time": "2024-06-23T10:49:51.492Z"
   },
   {
    "duration": 38,
    "start_time": "2024-06-23T10:49:51.520Z"
   },
   {
    "duration": 6,
    "start_time": "2024-06-23T10:49:51.561Z"
   },
   {
    "duration": 43,
    "start_time": "2024-06-23T10:49:51.569Z"
   },
   {
    "duration": 6,
    "start_time": "2024-06-23T10:49:51.615Z"
   },
   {
    "duration": 7,
    "start_time": "2024-06-23T10:49:51.624Z"
   },
   {
    "duration": 5,
    "start_time": "2024-06-23T10:49:51.634Z"
   },
   {
    "duration": 66,
    "start_time": "2024-06-23T10:49:51.646Z"
   },
   {
    "duration": 20,
    "start_time": "2024-06-23T10:49:51.715Z"
   },
   {
    "duration": 29,
    "start_time": "2024-06-23T10:49:51.738Z"
   },
   {
    "duration": 134,
    "start_time": "2024-06-23T10:49:51.770Z"
   },
   {
    "duration": 144,
    "start_time": "2024-06-23T10:49:51.913Z"
   },
   {
    "duration": 130,
    "start_time": "2024-06-23T10:49:52.061Z"
   },
   {
    "duration": 20,
    "start_time": "2024-06-23T10:49:52.195Z"
   },
   {
    "duration": 6,
    "start_time": "2024-06-23T10:49:52.219Z"
   },
   {
    "duration": 17,
    "start_time": "2024-06-23T10:49:52.230Z"
   },
   {
    "duration": 60,
    "start_time": "2024-06-23T10:49:52.252Z"
   },
   {
    "duration": 5,
    "start_time": "2024-06-23T10:49:52.317Z"
   },
   {
    "duration": 5,
    "start_time": "2024-06-23T10:49:52.326Z"
   },
   {
    "duration": 5,
    "start_time": "2024-06-23T10:49:52.335Z"
   },
   {
    "duration": 5,
    "start_time": "2024-06-23T10:49:52.345Z"
   },
   {
    "duration": 59,
    "start_time": "2024-06-23T10:49:52.354Z"
   },
   {
    "duration": 4,
    "start_time": "2024-06-23T10:49:52.418Z"
   },
   {
    "duration": 5,
    "start_time": "2024-06-23T10:49:52.426Z"
   },
   {
    "duration": 6,
    "start_time": "2024-06-23T10:49:52.435Z"
   },
   {
    "duration": 5,
    "start_time": "2024-06-23T10:49:52.450Z"
   },
   {
    "duration": 62,
    "start_time": "2024-06-23T10:56:03.680Z"
   },
   {
    "duration": 10,
    "start_time": "2024-06-23T10:57:10.414Z"
   },
   {
    "duration": 19,
    "start_time": "2024-06-23T10:59:19.110Z"
   },
   {
    "duration": 26,
    "start_time": "2024-06-23T10:59:41.841Z"
   },
   {
    "duration": 24,
    "start_time": "2024-06-23T11:00:56.712Z"
   },
   {
    "duration": 14,
    "start_time": "2024-06-23T11:01:32.332Z"
   },
   {
    "duration": 18,
    "start_time": "2024-06-23T11:06:34.504Z"
   },
   {
    "duration": 45,
    "start_time": "2024-06-23T11:14:55.307Z"
   },
   {
    "duration": 52,
    "start_time": "2024-06-23T11:15:35.376Z"
   },
   {
    "duration": 47,
    "start_time": "2024-06-23T11:16:26.192Z"
   },
   {
    "duration": 6,
    "start_time": "2024-06-23T11:16:35.416Z"
   },
   {
    "duration": 8,
    "start_time": "2024-06-23T11:26:13.987Z"
   },
   {
    "duration": 7,
    "start_time": "2024-06-23T11:26:31.392Z"
   },
   {
    "duration": 5,
    "start_time": "2024-06-23T11:26:35.977Z"
   },
   {
    "duration": 21,
    "start_time": "2024-06-23T11:29:57.278Z"
   },
   {
    "duration": 466,
    "start_time": "2024-06-23T11:37:35.910Z"
   },
   {
    "duration": 164,
    "start_time": "2024-06-23T11:37:36.380Z"
   },
   {
    "duration": 25,
    "start_time": "2024-06-23T11:37:36.547Z"
   },
   {
    "duration": 50,
    "start_time": "2024-06-23T11:37:36.576Z"
   },
   {
    "duration": 5,
    "start_time": "2024-06-23T11:37:36.629Z"
   },
   {
    "duration": 6,
    "start_time": "2024-06-23T11:37:36.637Z"
   },
   {
    "duration": 6,
    "start_time": "2024-06-23T11:37:36.647Z"
   },
   {
    "duration": 6,
    "start_time": "2024-06-23T11:37:36.656Z"
   },
   {
    "duration": 6,
    "start_time": "2024-06-23T11:37:36.713Z"
   },
   {
    "duration": 26,
    "start_time": "2024-06-23T11:37:36.724Z"
   },
   {
    "duration": 20,
    "start_time": "2024-06-23T11:37:36.752Z"
   },
   {
    "duration": 61,
    "start_time": "2024-06-23T11:37:36.774Z"
   },
   {
    "duration": 94,
    "start_time": "2024-06-23T11:37:36.839Z"
   },
   {
    "duration": 94,
    "start_time": "2024-06-23T11:37:36.940Z"
   },
   {
    "duration": 79,
    "start_time": "2024-06-23T11:37:37.037Z"
   },
   {
    "duration": 11,
    "start_time": "2024-06-23T11:37:37.120Z"
   },
   {
    "duration": 5,
    "start_time": "2024-06-23T11:37:37.134Z"
   },
   {
    "duration": 17,
    "start_time": "2024-06-23T11:37:37.143Z"
   },
   {
    "duration": 51,
    "start_time": "2024-06-23T11:37:37.164Z"
   },
   {
    "duration": 47,
    "start_time": "2024-06-23T11:37:37.217Z"
   },
   {
    "duration": 7,
    "start_time": "2024-06-23T11:37:37.267Z"
   },
   {
    "duration": 36,
    "start_time": "2024-06-23T11:37:37.277Z"
   },
   {
    "duration": 22,
    "start_time": "2024-06-23T11:37:37.315Z"
   },
   {
    "duration": 21,
    "start_time": "2024-06-23T11:37:37.340Z"
   },
   {
    "duration": 55,
    "start_time": "2024-06-23T11:37:37.365Z"
   },
   {
    "duration": 18,
    "start_time": "2024-06-23T11:37:37.423Z"
   },
   {
    "duration": 21,
    "start_time": "2024-06-23T11:37:37.444Z"
   },
   {
    "duration": 50,
    "start_time": "2024-06-23T11:37:37.471Z"
   },
   {
    "duration": 452,
    "start_time": "2024-06-23T11:46:17.940Z"
   },
   {
    "duration": 162,
    "start_time": "2024-06-23T11:46:18.396Z"
   },
   {
    "duration": 22,
    "start_time": "2024-06-23T11:46:18.561Z"
   },
   {
    "duration": 50,
    "start_time": "2024-06-23T11:46:18.587Z"
   },
   {
    "duration": 6,
    "start_time": "2024-06-23T11:46:18.641Z"
   },
   {
    "duration": 5,
    "start_time": "2024-06-23T11:46:18.650Z"
   },
   {
    "duration": 6,
    "start_time": "2024-06-23T11:46:18.658Z"
   },
   {
    "duration": 49,
    "start_time": "2024-06-23T11:46:18.667Z"
   },
   {
    "duration": 4,
    "start_time": "2024-06-23T11:46:18.720Z"
   },
   {
    "duration": 27,
    "start_time": "2024-06-23T11:46:18.731Z"
   },
   {
    "duration": 52,
    "start_time": "2024-06-23T11:46:18.760Z"
   },
   {
    "duration": 25,
    "start_time": "2024-06-23T11:46:18.816Z"
   },
   {
    "duration": 99,
    "start_time": "2024-06-23T11:46:18.844Z"
   },
   {
    "duration": 89,
    "start_time": "2024-06-23T11:46:18.946Z"
   },
   {
    "duration": 82,
    "start_time": "2024-06-23T11:46:19.038Z"
   },
   {
    "duration": 10,
    "start_time": "2024-06-23T11:46:19.123Z"
   },
   {
    "duration": 4,
    "start_time": "2024-06-23T11:46:19.136Z"
   },
   {
    "duration": 15,
    "start_time": "2024-06-23T11:46:19.144Z"
   },
   {
    "duration": 51,
    "start_time": "2024-06-23T11:46:19.162Z"
   },
   {
    "duration": 49,
    "start_time": "2024-06-23T11:46:19.216Z"
   },
   {
    "duration": 6,
    "start_time": "2024-06-23T11:46:19.268Z"
   },
   {
    "duration": 5,
    "start_time": "2024-06-23T11:46:19.277Z"
   },
   {
    "duration": 22,
    "start_time": "2024-06-23T11:46:19.313Z"
   },
   {
    "duration": 20,
    "start_time": "2024-06-23T11:46:19.338Z"
   },
   {
    "duration": 58,
    "start_time": "2024-06-23T11:46:19.361Z"
   },
   {
    "duration": 18,
    "start_time": "2024-06-23T11:46:19.422Z"
   },
   {
    "duration": 30,
    "start_time": "2024-06-23T11:46:19.442Z"
   },
   {
    "duration": 40,
    "start_time": "2024-06-23T11:46:19.479Z"
   },
   {
    "duration": 21,
    "start_time": "2024-06-23T11:52:27.942Z"
   },
   {
    "duration": 15,
    "start_time": "2024-06-23T11:52:57.164Z"
   },
   {
    "duration": 345,
    "start_time": "2024-06-23T11:53:39.385Z"
   },
   {
    "duration": 28,
    "start_time": "2024-06-23T11:53:56.693Z"
   },
   {
    "duration": 22,
    "start_time": "2024-06-23T11:54:05.090Z"
   },
   {
    "duration": 438,
    "start_time": "2024-06-23T11:54:19.746Z"
   },
   {
    "duration": 163,
    "start_time": "2024-06-23T11:54:20.187Z"
   },
   {
    "duration": 25,
    "start_time": "2024-06-23T11:54:20.353Z"
   },
   {
    "duration": 56,
    "start_time": "2024-06-23T11:54:20.384Z"
   },
   {
    "duration": 6,
    "start_time": "2024-06-23T11:54:20.443Z"
   },
   {
    "duration": 6,
    "start_time": "2024-06-23T11:54:20.452Z"
   },
   {
    "duration": 7,
    "start_time": "2024-06-23T11:54:20.461Z"
   },
   {
    "duration": 46,
    "start_time": "2024-06-23T11:54:20.471Z"
   },
   {
    "duration": 5,
    "start_time": "2024-06-23T11:54:20.521Z"
   },
   {
    "duration": 26,
    "start_time": "2024-06-23T11:54:20.531Z"
   },
   {
    "duration": 53,
    "start_time": "2024-06-23T11:54:20.560Z"
   },
   {
    "duration": 26,
    "start_time": "2024-06-23T11:54:20.616Z"
   },
   {
    "duration": 98,
    "start_time": "2024-06-23T11:54:20.645Z"
   },
   {
    "duration": 96,
    "start_time": "2024-06-23T11:54:20.746Z"
   },
   {
    "duration": 77,
    "start_time": "2024-06-23T11:54:20.844Z"
   },
   {
    "duration": 11,
    "start_time": "2024-06-23T11:54:20.924Z"
   },
   {
    "duration": 6,
    "start_time": "2024-06-23T11:54:20.938Z"
   },
   {
    "duration": 16,
    "start_time": "2024-06-23T11:54:20.947Z"
   },
   {
    "duration": 47,
    "start_time": "2024-06-23T11:54:20.967Z"
   },
   {
    "duration": 46,
    "start_time": "2024-06-23T11:54:21.018Z"
   },
   {
    "duration": 7,
    "start_time": "2024-06-23T11:54:21.067Z"
   },
   {
    "duration": 36,
    "start_time": "2024-06-23T11:54:21.077Z"
   },
   {
    "duration": 22,
    "start_time": "2024-06-23T11:54:21.116Z"
   },
   {
    "duration": 20,
    "start_time": "2024-06-23T11:54:21.142Z"
   },
   {
    "duration": 57,
    "start_time": "2024-06-23T11:54:21.165Z"
   },
   {
    "duration": 17,
    "start_time": "2024-06-23T11:54:21.228Z"
   },
   {
    "duration": 24,
    "start_time": "2024-06-23T11:54:21.248Z"
   },
   {
    "duration": 46,
    "start_time": "2024-06-23T11:54:21.278Z"
   },
   {
    "duration": 18,
    "start_time": "2024-06-24T03:34:46.923Z"
   },
   {
    "duration": 6,
    "start_time": "2024-06-24T03:35:12.219Z"
   },
   {
    "duration": 10,
    "start_time": "2024-06-24T03:39:17.492Z"
   }
  ],
  "colab": {
   "collapsed_sections": [
    "E0vqbgi9ay0H",
    "VUC88oWjTJw2"
   ],
   "provenance": []
  },
  "kernelspec": {
   "display_name": "Python 3 (ipykernel)",
   "language": "python",
   "name": "python3"
  },
  "language_info": {
   "codemirror_mode": {
    "name": "ipython",
    "version": 3
   },
   "file_extension": ".py",
   "mimetype": "text/x-python",
   "name": "python",
   "nbconvert_exporter": "python",
   "pygments_lexer": "ipython3",
   "version": "3.9.19"
  },
  "toc": {
   "base_numbering": 1,
   "nav_menu": {},
   "number_sections": true,
   "sideBar": true,
   "skip_h1_title": true,
   "title_cell": "Table of Contents",
   "title_sidebar": "Contents",
   "toc_cell": false,
   "toc_position": {},
   "toc_section_display": true,
   "toc_window_display": false
  }
 },
 "nbformat": 4,
 "nbformat_minor": 1
}
